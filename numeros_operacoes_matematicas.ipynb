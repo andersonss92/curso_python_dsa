{
  "nbformat": 4,
  "nbformat_minor": 0,
  "metadata": {
    "colab": {
      "name": "numeros_operacoes_matematicas.ipynb",
      "provenance": [],
      "authorship_tag": "ABX9TyPuFKT2O/SrZN/coH7m0TwI",
      "include_colab_link": true
    },
    "kernelspec": {
      "name": "python3",
      "display_name": "Python 3"
    },
    "language_info": {
      "name": "python"
    }
  },
  "cells": [
    {
      "cell_type": "markdown",
      "metadata": {
        "id": "view-in-github",
        "colab_type": "text"
      },
      "source": [
        "<a href=\"https://colab.research.google.com/github/andersonss92/curso_python_dsa/blob/main/numeros_operacoes_matematicas.ipynb\" target=\"_parent\"><img src=\"https://colab.research.google.com/assets/colab-badge.svg\" alt=\"Open In Colab\"/></a>"
      ]
    },
    {
      "cell_type": "markdown",
      "metadata": {
        "id": "Abbyf1ZaSLw-"
      },
      "source": [
        "Números e Operações matemáticas"
      ]
    },
    {
      "cell_type": "code",
      "metadata": {
        "colab": {
          "base_uri": "https://localhost:8080/"
        },
        "id": "9ThECIBqDhzC",
        "outputId": "9b704359-06ef-44ba-9883-cc4dcc77f0b4"
      },
      "source": [
        "#SOMA\n",
        "4 + 4"
      ],
      "execution_count": 52,
      "outputs": [
        {
          "output_type": "execute_result",
          "data": {
            "text/plain": [
              "8"
            ]
          },
          "metadata": {},
          "execution_count": 52
        }
      ]
    },
    {
      "cell_type": "code",
      "metadata": {
        "colab": {
          "base_uri": "https://localhost:8080/"
        },
        "id": "rRuPxk7lRhJ1",
        "outputId": "5b7f0cab-18e1-4995-b4a9-fecb90ddf844"
      },
      "source": [
        "#SUBTRAÇÃO\n",
        "4 - 3"
      ],
      "execution_count": 53,
      "outputs": [
        {
          "output_type": "execute_result",
          "data": {
            "text/plain": [
              "1"
            ]
          },
          "metadata": {},
          "execution_count": 53
        }
      ]
    },
    {
      "cell_type": "code",
      "metadata": {
        "colab": {
          "base_uri": "https://localhost:8080/"
        },
        "id": "ETSEgFpZSECi",
        "outputId": "c35bb959-f7b4-499d-960a-7ac2dd06fac0"
      },
      "source": [
        "#MULTIPLICAÇÃO\n",
        "3 * 3"
      ],
      "execution_count": 54,
      "outputs": [
        {
          "output_type": "execute_result",
          "data": {
            "text/plain": [
              "9"
            ]
          },
          "metadata": {},
          "execution_count": 54
        }
      ]
    },
    {
      "cell_type": "code",
      "metadata": {
        "colab": {
          "base_uri": "https://localhost:8080/"
        },
        "id": "Jd_MEQL1SH1w",
        "outputId": "73390f3d-49c9-40ed-f10f-38efe6c757bc"
      },
      "source": [
        "#DIVISÃO\n",
        "3 / 2"
      ],
      "execution_count": 55,
      "outputs": [
        {
          "output_type": "execute_result",
          "data": {
            "text/plain": [
              "1.5"
            ]
          },
          "metadata": {},
          "execution_count": 55
        }
      ]
    },
    {
      "cell_type": "code",
      "metadata": {
        "colab": {
          "base_uri": "https://localhost:8080/"
        },
        "id": "mUe_IiN8Sq3g",
        "outputId": "f6fa292b-52a9-42cf-dffe-a81a59bd7b4a"
      },
      "source": [
        "#POTêNCIA\n",
        "4 ** 2"
      ],
      "execution_count": 56,
      "outputs": [
        {
          "output_type": "execute_result",
          "data": {
            "text/plain": [
              "16"
            ]
          },
          "metadata": {},
          "execution_count": 56
        }
      ]
    },
    {
      "cell_type": "code",
      "metadata": {
        "colab": {
          "base_uri": "https://localhost:8080/"
        },
        "id": "izLyz6XnSwcY",
        "outputId": "b85fb14f-d6fb-40c2-deaa-f79d119f221e"
      },
      "source": [
        "#MÓDULO\n",
        "10 % 3"
      ],
      "execution_count": 57,
      "outputs": [
        {
          "output_type": "execute_result",
          "data": {
            "text/plain": [
              "1"
            ]
          },
          "metadata": {},
          "execution_count": 57
        }
      ]
    },
    {
      "cell_type": "markdown",
      "metadata": {
        "id": "KdEwaEOlXN6S"
      },
      "source": [
        "FUNÇÃO TYPE"
      ]
    },
    {
      "cell_type": "code",
      "metadata": {
        "colab": {
          "base_uri": "https://localhost:8080/"
        },
        "id": "vHuh5pObTUKM",
        "outputId": "42afb99b-b1ed-430b-c1c9-d4770e560894"
      },
      "source": [
        "type(5)"
      ],
      "execution_count": 58,
      "outputs": [
        {
          "output_type": "execute_result",
          "data": {
            "text/plain": [
              "int"
            ]
          },
          "metadata": {},
          "execution_count": 58
        }
      ]
    },
    {
      "cell_type": "code",
      "metadata": {
        "colab": {
          "base_uri": "https://localhost:8080/"
        },
        "id": "OQ10OhwWTZfy",
        "outputId": "6f1a1020-d694-4d6c-b84c-f38c823ea23c"
      },
      "source": [
        "type(5.0)"
      ],
      "execution_count": 59,
      "outputs": [
        {
          "output_type": "execute_result",
          "data": {
            "text/plain": [
              "float"
            ]
          },
          "metadata": {},
          "execution_count": 59
        }
      ]
    },
    {
      "cell_type": "code",
      "metadata": {
        "colab": {
          "base_uri": "https://localhost:8080/"
        },
        "id": "auEXVmGlTf1G",
        "outputId": "aaea3b7a-0559-4fa1-adbf-f888ef9e0827"
      },
      "source": [
        "a = 'Eu sou uma string'\n",
        "type(a)"
      ],
      "execution_count": 60,
      "outputs": [
        {
          "output_type": "execute_result",
          "data": {
            "text/plain": [
              "str"
            ]
          },
          "metadata": {},
          "execution_count": 60
        }
      ]
    },
    {
      "cell_type": "markdown",
      "metadata": {
        "id": "K79cMIKgTpep"
      },
      "source": [
        "Operações com números float:"
      ]
    },
    {
      "cell_type": "code",
      "metadata": {
        "colab": {
          "base_uri": "https://localhost:8080/"
        },
        "id": "52-XCc5ITot5",
        "outputId": "c3f43407-eb44-4da3-ffe7-1a8a258bcce6"
      },
      "source": [
        "3.1 + 6.4"
      ],
      "execution_count": 61,
      "outputs": [
        {
          "output_type": "execute_result",
          "data": {
            "text/plain": [
              "9.5"
            ]
          },
          "metadata": {},
          "execution_count": 61
        }
      ]
    },
    {
      "cell_type": "code",
      "metadata": {
        "colab": {
          "base_uri": "https://localhost:8080/"
        },
        "id": "0HA4jLswTxEf",
        "outputId": "bc74b47a-9edc-4f1f-831a-a24b363478c9"
      },
      "source": [
        "4 + 4.0"
      ],
      "execution_count": 62,
      "outputs": [
        {
          "output_type": "execute_result",
          "data": {
            "text/plain": [
              "8.0"
            ]
          },
          "metadata": {},
          "execution_count": 62
        }
      ]
    },
    {
      "cell_type": "code",
      "metadata": {
        "colab": {
          "base_uri": "https://localhost:8080/"
        },
        "id": "dPkGf2DOT-J9",
        "outputId": "791a94b4-dc17-4b86-d0c1-e4d79e234ddb"
      },
      "source": [
        "4 + 4"
      ],
      "execution_count": 63,
      "outputs": [
        {
          "output_type": "execute_result",
          "data": {
            "text/plain": [
              "8"
            ]
          },
          "metadata": {},
          "execution_count": 63
        }
      ]
    },
    {
      "cell_type": "code",
      "metadata": {
        "colab": {
          "base_uri": "https://localhost:8080/"
        },
        "id": "bgnr7LE3T84t",
        "outputId": "5f0db1ab-ed88-4249-93ca-95bea3f0d0aa"
      },
      "source": [
        "# Resultado é um número float\n",
        "4 / 2"
      ],
      "execution_count": 64,
      "outputs": [
        {
          "output_type": "execute_result",
          "data": {
            "text/plain": [
              "2.0"
            ]
          },
          "metadata": {},
          "execution_count": 64
        }
      ]
    },
    {
      "cell_type": "code",
      "metadata": {
        "colab": {
          "base_uri": "https://localhost:8080/"
        },
        "id": "mO9pj3sMUO5E",
        "outputId": "e4ce12dc-bfd8-4039-a0e5-2bfc25c08203"
      },
      "source": [
        "# Resultado é um número inteiro\n",
        "4 // 2 "
      ],
      "execution_count": 65,
      "outputs": [
        {
          "output_type": "execute_result",
          "data": {
            "text/plain": [
              "2"
            ]
          },
          "metadata": {},
          "execution_count": 65
        }
      ]
    },
    {
      "cell_type": "code",
      "metadata": {
        "colab": {
          "base_uri": "https://localhost:8080/"
        },
        "id": "DSjclgdaUe0e",
        "outputId": "67db4c49-7d27-4fd9-df14-c9441c4b5c81"
      },
      "source": [
        "4 / 3.0"
      ],
      "execution_count": 66,
      "outputs": [
        {
          "output_type": "execute_result",
          "data": {
            "text/plain": [
              "1.3333333333333333"
            ]
          },
          "metadata": {},
          "execution_count": 66
        }
      ]
    },
    {
      "cell_type": "code",
      "metadata": {
        "colab": {
          "base_uri": "https://localhost:8080/"
        },
        "id": "nqgNlI5WUjIn",
        "outputId": "eaa5a893-e916-43b6-d1e3-e050d12e8e0b"
      },
      "source": [
        "4 // 3.0"
      ],
      "execution_count": 67,
      "outputs": [
        {
          "output_type": "execute_result",
          "data": {
            "text/plain": [
              "1.0"
            ]
          },
          "metadata": {},
          "execution_count": 67
        }
      ]
    },
    {
      "cell_type": "markdown",
      "metadata": {
        "id": "hghOJpQqUo0H"
      },
      "source": [
        "CONVERÇÃO"
      ]
    },
    {
      "cell_type": "code",
      "metadata": {
        "colab": {
          "base_uri": "https://localhost:8080/"
        },
        "id": "MaNAa807Uri2",
        "outputId": "ab885576-483d-4f88-e3d3-09908a1b600f"
      },
      "source": [
        "float(9)"
      ],
      "execution_count": 68,
      "outputs": [
        {
          "output_type": "execute_result",
          "data": {
            "text/plain": [
              "9.0"
            ]
          },
          "metadata": {},
          "execution_count": 68
        }
      ]
    },
    {
      "cell_type": "code",
      "metadata": {
        "colab": {
          "base_uri": "https://localhost:8080/"
        },
        "id": "aEsPt4WVUwOV",
        "outputId": "a6204656-74f1-4568-ab7c-3b1514f5f961"
      },
      "source": [
        "int(6.0)"
      ],
      "execution_count": 69,
      "outputs": [
        {
          "output_type": "execute_result",
          "data": {
            "text/plain": [
              "6"
            ]
          },
          "metadata": {},
          "execution_count": 69
        }
      ]
    },
    {
      "cell_type": "code",
      "metadata": {
        "colab": {
          "base_uri": "https://localhost:8080/"
        },
        "id": "ZAwmG25qU1rj",
        "outputId": "bb73ea19-ea95-4239-dbbb-822270949415"
      },
      "source": [
        "int(6.5)"
      ],
      "execution_count": 70,
      "outputs": [
        {
          "output_type": "execute_result",
          "data": {
            "text/plain": [
              "6"
            ]
          },
          "metadata": {},
          "execution_count": 70
        }
      ]
    },
    {
      "cell_type": "markdown",
      "metadata": {
        "id": "m2dRrQcEU7VW"
      },
      "source": [
        "HEXADECIMAL E BINÁRIO"
      ]
    },
    {
      "cell_type": "code",
      "metadata": {
        "colab": {
          "base_uri": "https://localhost:8080/",
          "height": 35
        },
        "id": "XY7inlzPU_Jt",
        "outputId": "0ca88256-6915-4e5d-89ff-2df98f81501c"
      },
      "source": [
        "hex(394)"
      ],
      "execution_count": 71,
      "outputs": [
        {
          "output_type": "execute_result",
          "data": {
            "application/vnd.google.colaboratory.intrinsic+json": {
              "type": "string"
            },
            "text/plain": [
              "'0x18a'"
            ]
          },
          "metadata": {},
          "execution_count": 71
        }
      ]
    },
    {
      "cell_type": "code",
      "metadata": {
        "colab": {
          "base_uri": "https://localhost:8080/",
          "height": 35
        },
        "id": "M8hdUHVuVFHO",
        "outputId": "a2e8b23c-93ff-44a7-d3b8-aa1f8e3441ee"
      },
      "source": [
        "hex(217)"
      ],
      "execution_count": 72,
      "outputs": [
        {
          "output_type": "execute_result",
          "data": {
            "application/vnd.google.colaboratory.intrinsic+json": {
              "type": "string"
            },
            "text/plain": [
              "'0xd9'"
            ]
          },
          "metadata": {},
          "execution_count": 72
        }
      ]
    },
    {
      "cell_type": "code",
      "metadata": {
        "colab": {
          "base_uri": "https://localhost:8080/",
          "height": 35
        },
        "id": "6RgoVV-mVI6I",
        "outputId": "f76da95e-d984-4475-bd91-038189f4a8c5"
      },
      "source": [
        "bin(268)"
      ],
      "execution_count": 73,
      "outputs": [
        {
          "output_type": "execute_result",
          "data": {
            "application/vnd.google.colaboratory.intrinsic+json": {
              "type": "string"
            },
            "text/plain": [
              "'0b100001100'"
            ]
          },
          "metadata": {},
          "execution_count": 73
        }
      ]
    },
    {
      "cell_type": "code",
      "metadata": {
        "colab": {
          "base_uri": "https://localhost:8080/",
          "height": 35
        },
        "id": "PLvgH6G4VM9z",
        "outputId": "3c06cf66-fad2-4a12-f821-160a3d28ab3c"
      },
      "source": [
        "bin(390)"
      ],
      "execution_count": 74,
      "outputs": [
        {
          "output_type": "execute_result",
          "data": {
            "application/vnd.google.colaboratory.intrinsic+json": {
              "type": "string"
            },
            "text/plain": [
              "'0b110000110'"
            ]
          },
          "metadata": {},
          "execution_count": 74
        }
      ]
    },
    {
      "cell_type": "markdown",
      "metadata": {
        "id": "HzV9_yvcXcy7"
      },
      "source": [
        "FUNÇÕES ABS, ROUND E POW"
      ]
    },
    {
      "cell_type": "code",
      "metadata": {
        "colab": {
          "base_uri": "https://localhost:8080/"
        },
        "id": "gXxqrVDiVTdA",
        "outputId": "9daef81d-4d6d-4ff9-8873-acdf92868bae"
      },
      "source": [
        "# Retorna o valor absoluto\n",
        "abs(-8)"
      ],
      "execution_count": 75,
      "outputs": [
        {
          "output_type": "execute_result",
          "data": {
            "text/plain": [
              "8"
            ]
          },
          "metadata": {},
          "execution_count": 75
        }
      ]
    },
    {
      "cell_type": "code",
      "metadata": {
        "colab": {
          "base_uri": "https://localhost:8080/"
        },
        "id": "QNCgALWBVuQI",
        "outputId": "c3003b41-00db-452a-be10-8ddefe949534"
      },
      "source": [
        "# Retorna o valor absoluto\n",
        "abs(8)"
      ],
      "execution_count": 76,
      "outputs": [
        {
          "output_type": "execute_result",
          "data": {
            "text/plain": [
              "8"
            ]
          },
          "metadata": {},
          "execution_count": 76
        }
      ]
    },
    {
      "cell_type": "code",
      "metadata": {
        "colab": {
          "base_uri": "https://localhost:8080/"
        },
        "id": "rc2qFIPbVyoC",
        "outputId": "3e0ba74b-a484-415f-a330-7ff0d54f8d7d"
      },
      "source": [
        "# Retorna o valor com arredondamento\n",
        "round(3.14151922,2)"
      ],
      "execution_count": 77,
      "outputs": [
        {
          "output_type": "execute_result",
          "data": {
            "text/plain": [
              "3.14"
            ]
          },
          "metadata": {},
          "execution_count": 77
        }
      ]
    },
    {
      "cell_type": "code",
      "metadata": {
        "colab": {
          "base_uri": "https://localhost:8080/"
        },
        "id": "ckjpA_yTWFD8",
        "outputId": "31a9d824-d63b-4eb9-81aa-5acd52e5971d"
      },
      "source": [
        "# Potência\n",
        "pow(4,2)"
      ],
      "execution_count": 78,
      "outputs": [
        {
          "output_type": "execute_result",
          "data": {
            "text/plain": [
              "16"
            ]
          },
          "metadata": {},
          "execution_count": 78
        }
      ]
    },
    {
      "cell_type": "code",
      "metadata": {
        "colab": {
          "base_uri": "https://localhost:8080/"
        },
        "id": "Y7Ric6qtWP0m",
        "outputId": "4f5c2bcd-7947-4ef0-b6fc-1ff46cb0fb67"
      },
      "source": [
        "# Potência\n",
        "pow(5,3)"
      ],
      "execution_count": 79,
      "outputs": [
        {
          "output_type": "execute_result",
          "data": {
            "text/plain": [
              "125"
            ]
          },
          "metadata": {},
          "execution_count": 79
        }
      ]
    },
    {
      "cell_type": "markdown",
      "metadata": {
        "id": "wdQfWnnsWd4M"
      },
      "source": [
        "Fim!"
      ]
    }
  ]
}